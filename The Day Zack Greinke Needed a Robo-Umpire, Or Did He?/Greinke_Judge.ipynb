{
 "cells": [
  {
   "cell_type": "markdown",
   "metadata": {},
   "source": [
    "# Umpires Calls vs. Computer's Calls\n",
    "\n",
    "On Thursday, October 17th, 2019 Zack Greinke pitched in a playoff game against the New York Yankees. With a runner on first base and 1 out in the bottom of the 5th, Greinke faced Judge in a pivotal moment. With his team up 3-1, Greinke needed to get out of the 5th but was given no help from the home plate umpire. With a 2-0 count Greinke pitched a beautiful...ball? What was designated a ball by the home plate umpire was so obviously and clearly a strike according to the PitchF/X system (the system that creates the strike zone and ball image on the television screen, and records the data that I will be working with here). This notebook looks to see how often the the human, home-plate umpire, diverged from what the computer system recorded. More on this can be read on my blog:\n",
    "\n",
    "https://lucaskellydataportfolio.weebly.com/the-pick-off/zack-greinke-needs-a-robo-umpire"
   ]
  },
  {
   "cell_type": "code",
   "execution_count": 200,
   "metadata": {},
   "outputs": [],
   "source": [
    "import pandas as pd\n",
    "import numpy as np\n",
    "from matplotlib.patches import Rectangle\n",
    "from numpy.random import random\n",
    "import matplotlib.pyplot as plt\n",
    "import matplotlib.patches as patches\n",
    "%matplotlib inline\n",
    "\n",
    "%matplotlib inline\n",
    "\n",
    "from termcolor import colored"
   ]
  },
  {
   "cell_type": "code",
   "execution_count": 14,
   "metadata": {},
   "outputs": [],
   "source": [
    "PitchDF['pitchIdx'] = PitchDF['pitchIdx'].astype(int)"
   ]
  },
  {
   "cell_type": "code",
   "execution_count": 15,
   "metadata": {},
   "outputs": [
    {
     "name": "stdout",
     "output_type": "stream",
     "text": [
      "<class 'pandas.core.frame.DataFrame'>\n",
      "Int64Index: 351 entries, 352 to 702\n",
      "Data columns (total 14 columns):\n",
      "pitchIdx     351 non-null int64\n",
      "inning       351 non-null object\n",
      "frame        351 non-null object\n",
      "ab           351 non-null object\n",
      "abIdx        351 non-null object\n",
      "batter       351 non-null object\n",
      "stand        351 non-null object\n",
      "speed        351 non-null float64\n",
      "pitchtype    351 non-null object\n",
      "px           351 non-null float64\n",
      "pz           351 non-null float64\n",
      "szTop        351 non-null float64\n",
      "szBottom     351 non-null float64\n",
      "des          351 non-null object\n",
      "dtypes: float64(5), int64(1), object(8)\n",
      "memory usage: 41.1+ KB\n"
     ]
    }
   ],
   "source": [
    "PitchDF.info()"
   ]
  },
  {
   "cell_type": "code",
   "execution_count": 16,
   "metadata": {
    "scrolled": true
   },
   "outputs": [
    {
     "data": {
      "text/html": [
       "<div>\n",
       "<style scoped>\n",
       "    .dataframe tbody tr th:only-of-type {\n",
       "        vertical-align: middle;\n",
       "    }\n",
       "\n",
       "    .dataframe tbody tr th {\n",
       "        vertical-align: top;\n",
       "    }\n",
       "\n",
       "    .dataframe thead th {\n",
       "        text-align: right;\n",
       "    }\n",
       "</style>\n",
       "<table border=\"1\" class=\"dataframe\">\n",
       "  <thead>\n",
       "    <tr style=\"text-align: right;\">\n",
       "      <th></th>\n",
       "      <th>pitchIdx</th>\n",
       "      <th>inning</th>\n",
       "      <th>frame</th>\n",
       "      <th>ab</th>\n",
       "      <th>abIdx</th>\n",
       "      <th>batter</th>\n",
       "      <th>stand</th>\n",
       "      <th>speed</th>\n",
       "      <th>pitchtype</th>\n",
       "      <th>px</th>\n",
       "      <th>pz</th>\n",
       "      <th>szTop</th>\n",
       "      <th>szBottom</th>\n",
       "      <th>des</th>\n",
       "    </tr>\n",
       "  </thead>\n",
       "  <tbody>\n",
       "    <tr>\n",
       "      <td>509</td>\n",
       "      <td>509</td>\n",
       "      <td>5</td>\n",
       "      <td>bottom</td>\n",
       "      <td>41</td>\n",
       "      <td>1</td>\n",
       "      <td>Aaron Judge</td>\n",
       "      <td>R</td>\n",
       "      <td>87.9</td>\n",
       "      <td>changeup</td>\n",
       "      <td>-0.59</td>\n",
       "      <td>1.18</td>\n",
       "      <td>4.18</td>\n",
       "      <td>2.05</td>\n",
       "      <td>Ball</td>\n",
       "    </tr>\n",
       "    <tr>\n",
       "      <td>510</td>\n",
       "      <td>510</td>\n",
       "      <td>5</td>\n",
       "      <td>bottom</td>\n",
       "      <td>41</td>\n",
       "      <td>2</td>\n",
       "      <td>Aaron Judge</td>\n",
       "      <td>R</td>\n",
       "      <td>86.9</td>\n",
       "      <td>changeup</td>\n",
       "      <td>-1.58</td>\n",
       "      <td>2.73</td>\n",
       "      <td>4.15</td>\n",
       "      <td>1.99</td>\n",
       "      <td>Ball</td>\n",
       "    </tr>\n",
       "    <tr>\n",
       "      <td>511</td>\n",
       "      <td>511</td>\n",
       "      <td>5</td>\n",
       "      <td>bottom</td>\n",
       "      <td>41</td>\n",
       "      <td>3</td>\n",
       "      <td>Aaron Judge</td>\n",
       "      <td>R</td>\n",
       "      <td>85.7</td>\n",
       "      <td>slider</td>\n",
       "      <td>-0.05</td>\n",
       "      <td>3.45</td>\n",
       "      <td>4.16</td>\n",
       "      <td>2.09</td>\n",
       "      <td>Ball</td>\n",
       "    </tr>\n",
       "    <tr>\n",
       "      <td>512</td>\n",
       "      <td>512</td>\n",
       "      <td>5</td>\n",
       "      <td>bottom</td>\n",
       "      <td>41</td>\n",
       "      <td>4</td>\n",
       "      <td>Aaron Judge</td>\n",
       "      <td>R</td>\n",
       "      <td>83.8</td>\n",
       "      <td>slider</td>\n",
       "      <td>0.11</td>\n",
       "      <td>2.17</td>\n",
       "      <td>4.18</td>\n",
       "      <td>1.96</td>\n",
       "      <td>Called Strike</td>\n",
       "    </tr>\n",
       "    <tr>\n",
       "      <td>513</td>\n",
       "      <td>513</td>\n",
       "      <td>5</td>\n",
       "      <td>bottom</td>\n",
       "      <td>41</td>\n",
       "      <td>5</td>\n",
       "      <td>Aaron Judge</td>\n",
       "      <td>R</td>\n",
       "      <td>87.4</td>\n",
       "      <td>changeup</td>\n",
       "      <td>-1.04</td>\n",
       "      <td>1.57</td>\n",
       "      <td>3.94</td>\n",
       "      <td>1.88</td>\n",
       "      <td>Swinging Strike</td>\n",
       "    </tr>\n",
       "    <tr>\n",
       "      <td>514</td>\n",
       "      <td>514</td>\n",
       "      <td>5</td>\n",
       "      <td>bottom</td>\n",
       "      <td>41</td>\n",
       "      <td>6</td>\n",
       "      <td>Aaron Judge</td>\n",
       "      <td>R</td>\n",
       "      <td>88.1</td>\n",
       "      <td>changeup</td>\n",
       "      <td>-0.84</td>\n",
       "      <td>2.37</td>\n",
       "      <td>3.94</td>\n",
       "      <td>1.88</td>\n",
       "      <td>Foul</td>\n",
       "    </tr>\n",
       "    <tr>\n",
       "      <td>515</td>\n",
       "      <td>515</td>\n",
       "      <td>5</td>\n",
       "      <td>bottom</td>\n",
       "      <td>41</td>\n",
       "      <td>7</td>\n",
       "      <td>Aaron Judge</td>\n",
       "      <td>R</td>\n",
       "      <td>84.8</td>\n",
       "      <td>slider</td>\n",
       "      <td>-0.40</td>\n",
       "      <td>2.88</td>\n",
       "      <td>3.94</td>\n",
       "      <td>1.88</td>\n",
       "      <td>Foul</td>\n",
       "    </tr>\n",
       "    <tr>\n",
       "      <td>516</td>\n",
       "      <td>516</td>\n",
       "      <td>5</td>\n",
       "      <td>bottom</td>\n",
       "      <td>41</td>\n",
       "      <td>8</td>\n",
       "      <td>Aaron Judge</td>\n",
       "      <td>R</td>\n",
       "      <td>85.4</td>\n",
       "      <td>slider</td>\n",
       "      <td>0.31</td>\n",
       "      <td>0.40</td>\n",
       "      <td>4.09</td>\n",
       "      <td>1.96</td>\n",
       "      <td>Ball In Dirt</td>\n",
       "    </tr>\n",
       "  </tbody>\n",
       "</table>\n",
       "</div>"
      ],
      "text/plain": [
       "     pitchIdx inning   frame  ab abIdx       batter stand  speed pitchtype  \\\n",
       "509       509      5  bottom  41     1  Aaron Judge     R   87.9  changeup   \n",
       "510       510      5  bottom  41     2  Aaron Judge     R   86.9  changeup   \n",
       "511       511      5  bottom  41     3  Aaron Judge     R   85.7    slider   \n",
       "512       512      5  bottom  41     4  Aaron Judge     R   83.8    slider   \n",
       "513       513      5  bottom  41     5  Aaron Judge     R   87.4  changeup   \n",
       "514       514      5  bottom  41     6  Aaron Judge     R   88.1  changeup   \n",
       "515       515      5  bottom  41     7  Aaron Judge     R   84.8    slider   \n",
       "516       516      5  bottom  41     8  Aaron Judge     R   85.4    slider   \n",
       "\n",
       "       px    pz  szTop  szBottom              des  \n",
       "509 -0.59  1.18   4.18      2.05             Ball  \n",
       "510 -1.58  2.73   4.15      1.99             Ball  \n",
       "511 -0.05  3.45   4.16      2.09             Ball  \n",
       "512  0.11  2.17   4.18      1.96    Called Strike  \n",
       "513 -1.04  1.57   3.94      1.88  Swinging Strike  \n",
       "514 -0.84  2.37   3.94      1.88             Foul  \n",
       "515 -0.40  2.88   3.94      1.88             Foul  \n",
       "516  0.31  0.40   4.09      1.96     Ball In Dirt  "
      ]
     },
     "execution_count": 16,
     "metadata": {},
     "output_type": "execute_result"
    }
   ],
   "source": [
    "PitchDF.loc[(PitchDF['inning']=='5') & (PitchDF['batter']=='Aaron Judge')]\n"
   ]
  },
  {
   "cell_type": "code",
   "execution_count": 19,
   "metadata": {},
   "outputs": [],
   "source": [
    "PitchDF.to_csv('PitchDF.csv')"
   ]
  },
  {
   "cell_type": "markdown",
   "metadata": {},
   "source": [
    "# Visualization"
   ]
  },
  {
   "cell_type": "code",
   "execution_count": 145,
   "metadata": {},
   "outputs": [
    {
     "data": {
      "text/plain": [
       "(-2, 2)"
      ]
     },
     "execution_count": 145,
     "metadata": {},
     "output_type": "execute_result"
    },
    {
     "data": {
      "image/png": "[encoded data removed]",
      "text/plain": [
       "<Figure size 432x288 with 1 Axes>"
      ]
     },
     "metadata": {
      "needs_background": "light"
     },
     "output_type": "display_data"
    }
   ],
   "source": [
    "fig1 = plt.figure()\n",
    "ax1 = fig1.add_subplot(111, aspect = 'equal')\n",
    "\n",
    "platewidthInFeet = 17/12 # plate is 17 inches\n",
    "expandedplateInFeet = 20/12 # adding 3 inch ball\n",
    "sizeHeightInFeet = 3.5  - 1.5\n",
    "ballInFeet = 3 / 12 # \n",
    "halfBallInFeet = ballInFeet / 2\n",
    "\n",
    "# draw expanded zone: 3 inch ball (.25 ft) = 1.5 inches all the way around\n",
    "ax1.add_patch(patches.Rectangle((expandedplateInFeet/-2, 1.5 - halfBallInFeet), expandedplateInFeet, sizeHeightInFeet + ballInFeet, color='lightblue'))\n",
    "\n",
    "# draw formal zone (plate only)\n",
    "ax1.add_patch(patches.Rectangle((platewidthInFeet/-2, 1.5), platewidthInFeet, sizeHeightInFeet))\n",
    "\n",
    "plt.ylim(0, 5)\n",
    "plt.xlim(-2, 2)"
   ]
  },
  {
   "cell_type": "code",
   "execution_count": 146,
   "metadata": {},
   "outputs": [],
   "source": [
    "pitchColors = { \"FA\":\"b\", \"FF\":\"red\", \"FT\": \"y\", \"FC\": \"k\", \"\":\"w\", None: \"violet\",\n",
    "                    \"FS\":\"aqua\", \"SL\":\"orange\", \"CH\":\"h\",\"CU\":\"green\",\"KC\":\"tan\",\n",
    "                    \"KN\":\"^\",\"EP\":\"*\", \"UN\":\"X\", \"PO\":\"s\", \"SI\":\"_\", \"SF\":\"seagreen\"\n",
    "                    }\n",
    "\n",
    "pitchMarkers = { \"FA\":\"x\", \"FF\":\"o\", \"FT\": \"1\", \"FC\": \"2\", \"\":\"2\", None: \"4\",\n",
    "                    \"FS\":\"aqua\", \"SL\":\"^\", \"CH\":\"h\",\"CU\":\"o\",\"KC\":\"tan\",\n",
    "                    \"KN\":\"^\",\"EP\":\"*\", \"UN\":\"X\", \"PO\":\"s\", \"SI\":\"_\", \"SF\":\"seagreen\"\n",
    "                    }"
   ]
  },
  {
   "cell_type": "code",
   "execution_count": 150,
   "metadata": {},
   "outputs": [],
   "source": [
    "def draw_ab(df):\n",
    "    stand = df['stand'].iloc[0]\n",
    "    batter = df['batter'].iloc[0]\n",
    "    inning = df['inning'].iloc[0]\n",
    "    frame = df[\"frame\"].iloc[0]\n",
    "    suffix = \"th\"\n",
    "    suffix = \"st\" if inning == '1' else suffix\n",
    "    suffix = \"nd\" if inning == '2' else suffix\n",
    "    suffix = \"rd\" if inning == '3' else suffix\n",
    "\n",
    "    plt.figure(figsize=(7,7)) \n",
    "\n",
    "    platewidthInFeet = 17 / 12 # plate is 17 inches wide\n",
    "    expandedPlateInFeet = 20 / 12 # add ball width (half on each side)\n",
    "    szTop = df[\"szTop\"].iloc[0]\n",
    "    szBottom = df[\"szBottom\"].iloc[0]\n",
    "    szHeightInFeet = szTop - szBottom\n",
    "    # draw expanded zone: 3 inch ball (.25 ft) = 1.5 inches all the way around\n",
    "\n",
    "    currentAxis = plt.gca()\n",
    "    currentAxis.add_patch(Rectangle((expandedPlateInFeet/-2, szBottom - 0.125), expandedPlateInFeet, szHeightInFeet + 0.25, color='lightblue'))\n",
    "    currentAxis.add_patch(Rectangle((platewidthInFeet/-2, szBottom), platewidthInFeet, szHeightInFeet, facecolor=\"lightgrey\"))\n",
    "    if stand == 'R':\n",
    "        standTextX = -1.5\n",
    "    else:\n",
    "        standTextX = 1.4\n",
    "    tbatter = currentAxis.text(standTextX, 2.5, stand, style='italic', fontsize=24,\n",
    "            bbox={'facecolor': 'blue', 'alpha': 0.2, 'pad': 10})\n",
    "\n",
    "    pitchList = []\n",
    "    availColors = ['b','r','y','k','w']\n",
    "    pitchesUsed = df['pitchtype'].unique()\n",
    "    abCount = len(df['speed'])\n",
    "    markerSize = [0] * abCount\n",
    "    for i, sx in enumerate(df['speed'].tolist()):\n",
    "        markerSize[i] = int(sx -  70)*3\n",
    "        thrownPitch = df['pitchtype'].tolist()[i]\n",
    "        for j, (k, v) in enumerate(pitchDictionary.items()):\n",
    "            if thrownPitch == v:\n",
    "                pitchList.append(plt.scatter(df['px'].iloc[i], df['pz'].iloc[i], marker=pitchMarkers[k], \n",
    "                                             color='red', label=v, zorder=2))\n",
    "                #print(\"i: {} j: {} pitch: {}, key: {}, value: {} marker: {} color:{}\".format(i, j, thrownPitch, k, v, pitchMarkers[k], pitchColors[k]))\n",
    "\n",
    "    print(markerSize, colors, pitchesUsed)\n",
    "\n",
    "    # graph limits\n",
    "    plt.ylim(0, 5)\n",
    "    plt.xlim(-2.5, 2.5)\n",
    "    plt.gca().set_aspect('equal', 'box')\n",
    "\n",
    "    # draw legend by consolidating like pitch types\n",
    "    handles, labels = plt.gca().get_legend_handles_labels()\n",
    "    newLabels, newHandles = [], []\n",
    "    for handle, label in zip(handles, labels):\n",
    "        if label not in newLabels:\n",
    "            newLabels.append(label)\n",
    "            newHandles.append(handle)\n",
    "    plt.legend(newHandles, newLabels)\n",
    "\n",
    "    # axis labels\n",
    "    plt.xlabel(\"Catcher's View - \" + batter + \" (\" + str(frame) + \" of the \" + str(inning) + suffix + \")\")\n",
    "    plt.ylabel('vertical location')\n",
    "\n",
    "    plt.show()"
   ]
  },
  {
   "cell_type": "code",
   "execution_count": 151,
   "metadata": {
    "scrolled": true
   },
   "outputs": [
    {
     "name": "stdout",
     "output_type": "stream",
     "text": [
      "[51, 48, 45, 39, 51, 54, 42, 45] {'R': 'red', 'L': 'black'} ['changeup' 'slider']\n"
     ]
    },
    {
     "data": {
      "image/png": "[encoded data removed]",
      "text/plain": [
       "<Figure size 504x504 with 1 Axes>"
      ]
     },
     "metadata": {
      "needs_background": "light"
     },
     "output_type": "display_data"
    }
   ],
   "source": [
    "draw_ab(PitchDF.loc[PitchDF['ab']==41])"
   ]
  },
  {
   "cell_type": "markdown",
   "metadata": {},
   "source": [
    "# Creating Computer Pitch Calls\n",
    "\n",
    "What we have are calls designated by the umpire as well as PitchF/X data showing pitch location as px and pz. We also have the sz_top and sz_bottom for each individual batter as those variables change by batter height. So, if we create a strike zone, we can use PitchF/X data to determine whether or not the computer would have called the pitch a ball or a strike."
   ]
  },
  {
   "cell_type": "code",
   "execution_count": 34,
   "metadata": {},
   "outputs": [],
   "source": [
    "# Setting up the zone\n",
    "\n",
    "platewidthInFeet = 17 / 12 # plate is 17 inches wide\n",
    "expandedPlateInFeet = 20 / 12 # add ball width (half on each side)\n",
    "szTop = PitchDF[\"szTop\"].iloc[0]\n",
    "szBottom = PitchDF[\"szBottom\"].iloc[0]\n",
    "szHeightInFeet = szTop - szBottom\n",
    "ballInFeet = 3 / 12\n",
    "halfBallInFeet = ballInFeet / 2"
   ]
  },
  {
   "cell_type": "markdown",
   "metadata": {},
   "source": [
    "# X Calls\n",
    "\n",
    "One way to do this is to see if the ball was in the horizontal strike zone. If so, we will add a 'Strike' designation, if not, we will add an 'out' designation or a 'in' designation for inside or outside of the strike zone. "
   ]
  },
  {
   "cell_type": "code",
   "execution_count": 166,
   "metadata": {},
   "outputs": [],
   "source": [
    "def pitch_call_x(x):\n",
    "    if x < (-(expandedPlateInFeet/2)):\n",
    "        return 'Out'\n",
    "    elif x > (expandedPlateInFeet/2):\n",
    "        return 'In'\n",
    "    else:\n",
    "        return 'Strike'"
   ]
  },
  {
   "cell_type": "code",
   "execution_count": 167,
   "metadata": {},
   "outputs": [],
   "source": [
    "x_call = []\n",
    "px = list(PitchDF['px'])\n",
    "\n",
    "for i in px:\n",
    "    x_call.append(pitch_call_x(i))\n",
    "    "
   ]
  },
  {
   "cell_type": "code",
   "execution_count": 168,
   "metadata": {
    "scrolled": false
   },
   "outputs": [
    {
     "data": {
      "text/plain": [
       "'Strike'"
      ]
     },
     "execution_count": 168,
     "metadata": {},
     "output_type": "execute_result"
    }
   ],
   "source": [
    "x_call[10]"
   ]
  },
  {
   "cell_type": "code",
   "execution_count": 169,
   "metadata": {},
   "outputs": [],
   "source": [
    "PitchDF['x_call'] = x_call"
   ]
  },
  {
   "cell_type": "markdown",
   "metadata": {},
   "source": [
    "# Y calls\n",
    "\n",
    "We have to now do the same thing with the vertical location of the ball. An added challenge here is that the strike zone height changes with each batter. So, we'll need to compare the pz (vertical location of the pitch) with each batter's sz_Top and sz_Bottom measurements."
   ]
  },
  {
   "cell_type": "code",
   "execution_count": 172,
   "metadata": {},
   "outputs": [],
   "source": [
    "# Create a Nan value for all y_calls, then fill only values where the pitch is higher than the \n",
    "# batter's strike zone height.\n",
    "\n",
    "PitchDF['y_call'] = np.nan\n",
    "PitchDF['y_call'] = np.where((PitchDF['pz'] > PitchDF['szTop'])\n",
    "                     , PitchDF['y_call'], np.nan)"
   ]
  },
  {
   "cell_type": "code",
   "execution_count": 173,
   "metadata": {},
   "outputs": [],
   "source": [
    "# If the pitch is higher than the zone top, we designate High\n",
    "# If the pitch is lower than the zone bottom, we designate Low\n",
    "# Other wise, it should be a Strike\n",
    "\n",
    "conditions = [(PitchDF['pz'] > PitchDF['szTop']), (PitchDF['pz'] < PitchDF['szBottom'])]\n",
    "\n",
    "choices = ['High', 'Low']\n",
    "\n",
    "PitchDF['y_call'] = np.select(conditions, choices, default='Strike')"
   ]
  },
  {
   "cell_type": "code",
   "execution_count": 174,
   "metadata": {},
   "outputs": [],
   "source": [
    "# Create empty column\n",
    "\n",
    "PitchDF['comp_call'] = np.nan"
   ]
  },
  {
   "cell_type": "code",
   "execution_count": 175,
   "metadata": {},
   "outputs": [],
   "source": [
    "# Now that we have the computer calls for the X and Y, we need to put them together. \n",
    "# If a call is a strike in the X and a strike in the Y, we have a strike called by the computer\n",
    "# If any other coniditions exist, (X strike but Y ball), then we have a ball. \n",
    "\n",
    "conditions = [((PitchDF['x_call'] == 'Strike') & (PitchDF['y_call'] == 'Strike')), ((PitchDF['x_call'] != 'Strike') & (PitchDF['y_call'] != 'Strike'))]\n",
    "\n",
    "choices = ['Called Strike', 'Ball']\n",
    "\n",
    "PitchDF['comp_call'] = np.select(conditions, choices, default='Ball')"
   ]
  },
  {
   "cell_type": "code",
   "execution_count": 178,
   "metadata": {
    "scrolled": true
   },
   "outputs": [
    {
     "data": {
      "text/html": [
       "<div>\n",
       "<style scoped>\n",
       "    .dataframe tbody tr th:only-of-type {\n",
       "        vertical-align: middle;\n",
       "    }\n",
       "\n",
       "    .dataframe tbody tr th {\n",
       "        vertical-align: top;\n",
       "    }\n",
       "\n",
       "    .dataframe thead th {\n",
       "        text-align: right;\n",
       "    }\n",
       "</style>\n",
       "<table border=\"1\" class=\"dataframe\">\n",
       "  <thead>\n",
       "    <tr style=\"text-align: right;\">\n",
       "      <th></th>\n",
       "      <th>Unnamed: 0</th>\n",
       "      <th>pitchIdx</th>\n",
       "      <th>inning</th>\n",
       "      <th>frame</th>\n",
       "      <th>ab</th>\n",
       "      <th>abIdx</th>\n",
       "      <th>batter</th>\n",
       "      <th>stand</th>\n",
       "      <th>speed</th>\n",
       "      <th>pitchtype</th>\n",
       "      <th>px</th>\n",
       "      <th>pz</th>\n",
       "      <th>szTop</th>\n",
       "      <th>szBottom</th>\n",
       "      <th>des</th>\n",
       "      <th>x_call</th>\n",
       "      <th>y_call</th>\n",
       "      <th>comp_call</th>\n",
       "    </tr>\n",
       "  </thead>\n",
       "  <tbody>\n",
       "    <tr>\n",
       "      <td>0</td>\n",
       "      <td>352</td>\n",
       "      <td>352</td>\n",
       "      <td>1</td>\n",
       "      <td>top</td>\n",
       "      <td>1</td>\n",
       "      <td>1</td>\n",
       "      <td>George Springer</td>\n",
       "      <td>R</td>\n",
       "      <td>91.8</td>\n",
       "      <td>4-seam fb</td>\n",
       "      <td>0.02</td>\n",
       "      <td>2.47</td>\n",
       "      <td>3.37</td>\n",
       "      <td>1.53</td>\n",
       "      <td>Foul</td>\n",
       "      <td>Strike</td>\n",
       "      <td>Strike</td>\n",
       "      <td>Called Strike</td>\n",
       "    </tr>\n",
       "    <tr>\n",
       "      <td>1</td>\n",
       "      <td>353</td>\n",
       "      <td>353</td>\n",
       "      <td>1</td>\n",
       "      <td>top</td>\n",
       "      <td>1</td>\n",
       "      <td>2</td>\n",
       "      <td>George Springer</td>\n",
       "      <td>R</td>\n",
       "      <td>89.4</td>\n",
       "      <td>fb-splitter</td>\n",
       "      <td>-1.37</td>\n",
       "      <td>3.08</td>\n",
       "      <td>3.62</td>\n",
       "      <td>1.72</td>\n",
       "      <td>Ball</td>\n",
       "      <td>Out</td>\n",
       "      <td>Strike</td>\n",
       "      <td>Ball</td>\n",
       "    </tr>\n",
       "    <tr>\n",
       "      <td>2</td>\n",
       "      <td>354</td>\n",
       "      <td>354</td>\n",
       "      <td>1</td>\n",
       "      <td>top</td>\n",
       "      <td>1</td>\n",
       "      <td>3</td>\n",
       "      <td>George Springer</td>\n",
       "      <td>R</td>\n",
       "      <td>83.3</td>\n",
       "      <td>slider</td>\n",
       "      <td>0.75</td>\n",
       "      <td>2.31</td>\n",
       "      <td>2.81</td>\n",
       "      <td>1.30</td>\n",
       "      <td>In play, out(s)</td>\n",
       "      <td>Strike</td>\n",
       "      <td>Strike</td>\n",
       "      <td>Called Strike</td>\n",
       "    </tr>\n",
       "    <tr>\n",
       "      <td>3</td>\n",
       "      <td>355</td>\n",
       "      <td>355</td>\n",
       "      <td>1</td>\n",
       "      <td>top</td>\n",
       "      <td>2</td>\n",
       "      <td>1</td>\n",
       "      <td>Jose Altuve</td>\n",
       "      <td>R</td>\n",
       "      <td>82.8</td>\n",
       "      <td>slider</td>\n",
       "      <td>0.73</td>\n",
       "      <td>1.96</td>\n",
       "      <td>3.05</td>\n",
       "      <td>1.45</td>\n",
       "      <td>Called Strike</td>\n",
       "      <td>Strike</td>\n",
       "      <td>Strike</td>\n",
       "      <td>Called Strike</td>\n",
       "    </tr>\n",
       "    <tr>\n",
       "      <td>4</td>\n",
       "      <td>356</td>\n",
       "      <td>356</td>\n",
       "      <td>1</td>\n",
       "      <td>top</td>\n",
       "      <td>2</td>\n",
       "      <td>2</td>\n",
       "      <td>Jose Altuve</td>\n",
       "      <td>R</td>\n",
       "      <td>91.0</td>\n",
       "      <td>4-seam fb</td>\n",
       "      <td>-1.22</td>\n",
       "      <td>4.44</td>\n",
       "      <td>3.08</td>\n",
       "      <td>1.39</td>\n",
       "      <td>Ball</td>\n",
       "      <td>Out</td>\n",
       "      <td>High</td>\n",
       "      <td>Ball</td>\n",
       "    </tr>\n",
       "  </tbody>\n",
       "</table>\n",
       "</div>"
      ],
      "text/plain": [
       "   Unnamed: 0  pitchIdx  inning frame  ab  abIdx           batter stand  \\\n",
       "0         352       352       1   top   1      1  George Springer     R   \n",
       "1         353       353       1   top   1      2  George Springer     R   \n",
       "2         354       354       1   top   1      3  George Springer     R   \n",
       "3         355       355       1   top   2      1      Jose Altuve     R   \n",
       "4         356       356       1   top   2      2      Jose Altuve     R   \n",
       "\n",
       "   speed    pitchtype    px    pz  szTop  szBottom              des  x_call  \\\n",
       "0   91.8    4-seam fb  0.02  2.47   3.37      1.53             Foul  Strike   \n",
       "1   89.4  fb-splitter -1.37  3.08   3.62      1.72             Ball     Out   \n",
       "2   83.3       slider  0.75  2.31   2.81      1.30  In play, out(s)  Strike   \n",
       "3   82.8       slider  0.73  1.96   3.05      1.45    Called Strike  Strike   \n",
       "4   91.0    4-seam fb -1.22  4.44   3.08      1.39             Ball     Out   \n",
       "\n",
       "   y_call      comp_call  \n",
       "0  Strike  Called Strike  \n",
       "1  Strike           Ball  \n",
       "2  Strike  Called Strike  \n",
       "3  Strike  Called Strike  \n",
       "4    High           Ball  "
      ]
     },
     "execution_count": 178,
     "metadata": {},
     "output_type": "execute_result"
    }
   ],
   "source": [
    "# Here it is! Calls can now be compared between the umpire('des') and the computer('comp_call')\n",
    "\n",
    "PitchDF.head()"
   ]
  },
  {
   "cell_type": "markdown",
   "metadata": {},
   "source": [
    "# Investigating accuracy of the umpire\n",
    "\n",
    "Now that we have the means to compare, we need to slice the DF to eliminate any opportunity where a call did not need to be made by the umpire. For example, if a foul ball is hit, the umpire doesn't need to call the pitch a ball or a strike."
   ]
  },
  {
   "cell_type": "code",
   "execution_count": 179,
   "metadata": {},
   "outputs": [],
   "source": [
    "# Create a DF that only looks at ball and strike calls\n",
    "\n",
    "UmpComp = PitchDF.loc[(PitchDF['des']=='Ball') | (PitchDF['des']=='Called Strike')]"
   ]
  },
  {
   "cell_type": "code",
   "execution_count": 180,
   "metadata": {},
   "outputs": [
    {
     "name": "stderr",
     "output_type": "stream",
     "text": [
      "/Users/Kelly/anaconda3/lib/python3.7/site-packages/ipykernel_launcher.py:3: SettingWithCopyWarning: \n",
      "A value is trying to be set on a copy of a slice from a DataFrame.\n",
      "Try using .loc[row_indexer,col_indexer] = value instead\n",
      "\n",
      "See the caveats in the documentation: http://pandas.pydata.org/pandas-docs/stable/user_guide/indexing.html#returning-a-view-versus-a-copy\n",
      "  This is separate from the ipykernel package so we can avoid doing imports until\n"
     ]
    }
   ],
   "source": [
    "# Apply an accuracy measurement, a 1 if the des matches the comp_call and a 0 if they do not.\n",
    "\n",
    "UmpComp['acc'] = np.where((UmpComp['des'] == UmpComp['comp_call']),1,0)"
   ]
  },
  {
   "cell_type": "code",
   "execution_count": 184,
   "metadata": {},
   "outputs": [
    {
     "data": {
      "text/plain": [
       "(186, 19)"
      ]
     },
     "execution_count": 184,
     "metadata": {},
     "output_type": "execute_result"
    }
   ],
   "source": [
    "# Number of ball/strike designations by the umpire\n",
    "\n",
    "UmpComp.shape"
   ]
  },
  {
   "cell_type": "code",
   "execution_count": 186,
   "metadata": {},
   "outputs": [
    {
     "data": {
      "text/plain": [
       "(19, 19)"
      ]
     },
     "execution_count": 186,
     "metadata": {},
     "output_type": "execute_result"
    }
   ],
   "source": [
    "# Number of times the umpire was wrong compared to the computer\n",
    "\n",
    "UmpComp.loc[UmpComp['acc']==0].shape"
   ]
  },
  {
   "cell_type": "code",
   "execution_count": 187,
   "metadata": {},
   "outputs": [
    {
     "data": {
      "text/plain": [
       "(167, 19)"
      ]
     },
     "execution_count": 187,
     "metadata": {},
     "output_type": "execute_result"
    }
   ],
   "source": [
    "# Number of times the umpire was right according to the umpire\n",
    "\n",
    "UmpComp.loc[UmpComp['acc']==1].shape"
   ]
  },
  {
   "cell_type": "code",
   "execution_count": 194,
   "metadata": {
    "scrolled": true
   },
   "outputs": [
    {
     "name": "stdout",
     "output_type": "stream",
     "text": [
      "The Umpire was wrong 10.0% of the time.\n",
      "The Umpire was right 90.0% of the time.\n"
     ]
    }
   ],
   "source": [
    "# This means that 19 out of the \n",
    "\n",
    "print('The Umpire was wrong ' + str(np.round(19/186, 2)*100) + '% of the time.')\n",
    "print('The Umpire was right ' + str(np.round(167/186, 2)*100) + '% of the time.')"
   ]
  },
  {
   "cell_type": "markdown",
   "metadata": {},
   "source": [
    "# Looking at Greinke\n",
    "\n",
    "Now, let's look at how the umpire called only Greinke. "
   ]
  },
  {
   "cell_type": "code",
   "execution_count": 196,
   "metadata": {},
   "outputs": [
    {
     "data": {
      "text/html": [
       "<div>\n",
       "<style scoped>\n",
       "    .dataframe tbody tr th:only-of-type {\n",
       "        vertical-align: middle;\n",
       "    }\n",
       "\n",
       "    .dataframe tbody tr th {\n",
       "        vertical-align: top;\n",
       "    }\n",
       "\n",
       "    .dataframe thead th {\n",
       "        text-align: right;\n",
       "    }\n",
       "</style>\n",
       "<table border=\"1\" class=\"dataframe\">\n",
       "  <thead>\n",
       "    <tr style=\"text-align: right;\">\n",
       "      <th></th>\n",
       "      <th>Unnamed: 0</th>\n",
       "      <th>pitchIdx</th>\n",
       "      <th>inning</th>\n",
       "      <th>frame</th>\n",
       "      <th>ab</th>\n",
       "      <th>abIdx</th>\n",
       "      <th>batter</th>\n",
       "      <th>stand</th>\n",
       "      <th>speed</th>\n",
       "      <th>pitchtype</th>\n",
       "      <th>px</th>\n",
       "      <th>pz</th>\n",
       "      <th>szTop</th>\n",
       "      <th>szBottom</th>\n",
       "      <th>des</th>\n",
       "      <th>x_call</th>\n",
       "      <th>y_call</th>\n",
       "      <th>comp_call</th>\n",
       "      <th>acc</th>\n",
       "    </tr>\n",
       "  </thead>\n",
       "  <tbody>\n",
       "    <tr>\n",
       "      <td>155</td>\n",
       "      <td>507</td>\n",
       "      <td>507</td>\n",
       "      <td>5</td>\n",
       "      <td>bottom</td>\n",
       "      <td>40</td>\n",
       "      <td>3</td>\n",
       "      <td>DJ LeMahieu</td>\n",
       "      <td>R</td>\n",
       "      <td>89.0</td>\n",
       "      <td>4-seam fb</td>\n",
       "      <td>-1.74</td>\n",
       "      <td>3.37</td>\n",
       "      <td>3.53</td>\n",
       "      <td>1.81</td>\n",
       "      <td>Ball</td>\n",
       "      <td>Out</td>\n",
       "      <td>Strike</td>\n",
       "      <td>Ball</td>\n",
       "      <td>1</td>\n",
       "    </tr>\n",
       "    <tr>\n",
       "      <td>157</td>\n",
       "      <td>509</td>\n",
       "      <td>509</td>\n",
       "      <td>5</td>\n",
       "      <td>bottom</td>\n",
       "      <td>41</td>\n",
       "      <td>1</td>\n",
       "      <td>Aaron Judge</td>\n",
       "      <td>R</td>\n",
       "      <td>87.9</td>\n",
       "      <td>changeup</td>\n",
       "      <td>-0.59</td>\n",
       "      <td>1.18</td>\n",
       "      <td>4.18</td>\n",
       "      <td>2.05</td>\n",
       "      <td>Ball</td>\n",
       "      <td>Strike</td>\n",
       "      <td>Low</td>\n",
       "      <td>Ball</td>\n",
       "      <td>1</td>\n",
       "    </tr>\n",
       "    <tr>\n",
       "      <td>158</td>\n",
       "      <td>510</td>\n",
       "      <td>510</td>\n",
       "      <td>5</td>\n",
       "      <td>bottom</td>\n",
       "      <td>41</td>\n",
       "      <td>2</td>\n",
       "      <td>Aaron Judge</td>\n",
       "      <td>R</td>\n",
       "      <td>86.9</td>\n",
       "      <td>changeup</td>\n",
       "      <td>-1.58</td>\n",
       "      <td>2.73</td>\n",
       "      <td>4.15</td>\n",
       "      <td>1.99</td>\n",
       "      <td>Ball</td>\n",
       "      <td>Out</td>\n",
       "      <td>Strike</td>\n",
       "      <td>Ball</td>\n",
       "      <td>1</td>\n",
       "    </tr>\n",
       "    <tr>\n",
       "      <td>159</td>\n",
       "      <td>511</td>\n",
       "      <td>511</td>\n",
       "      <td>5</td>\n",
       "      <td>bottom</td>\n",
       "      <td>41</td>\n",
       "      <td>3</td>\n",
       "      <td>Aaron Judge</td>\n",
       "      <td>R</td>\n",
       "      <td>85.7</td>\n",
       "      <td>slider</td>\n",
       "      <td>-0.05</td>\n",
       "      <td>3.45</td>\n",
       "      <td>4.16</td>\n",
       "      <td>2.09</td>\n",
       "      <td>Ball</td>\n",
       "      <td>Strike</td>\n",
       "      <td>Strike</td>\n",
       "      <td>Called Strike</td>\n",
       "      <td>0</td>\n",
       "    </tr>\n",
       "    <tr>\n",
       "      <td>160</td>\n",
       "      <td>512</td>\n",
       "      <td>512</td>\n",
       "      <td>5</td>\n",
       "      <td>bottom</td>\n",
       "      <td>41</td>\n",
       "      <td>4</td>\n",
       "      <td>Aaron Judge</td>\n",
       "      <td>R</td>\n",
       "      <td>83.8</td>\n",
       "      <td>slider</td>\n",
       "      <td>0.11</td>\n",
       "      <td>2.17</td>\n",
       "      <td>4.18</td>\n",
       "      <td>1.96</td>\n",
       "      <td>Called Strike</td>\n",
       "      <td>Strike</td>\n",
       "      <td>Strike</td>\n",
       "      <td>Called Strike</td>\n",
       "      <td>1</td>\n",
       "    </tr>\n",
       "  </tbody>\n",
       "</table>\n",
       "</div>"
      ],
      "text/plain": [
       "     Unnamed: 0  pitchIdx  inning   frame  ab  abIdx       batter stand  \\\n",
       "155         507       507       5  bottom  40      3  DJ LeMahieu     R   \n",
       "157         509       509       5  bottom  41      1  Aaron Judge     R   \n",
       "158         510       510       5  bottom  41      2  Aaron Judge     R   \n",
       "159         511       511       5  bottom  41      3  Aaron Judge     R   \n",
       "160         512       512       5  bottom  41      4  Aaron Judge     R   \n",
       "\n",
       "     speed  pitchtype    px    pz  szTop  szBottom            des  x_call  \\\n",
       "155   89.0  4-seam fb -1.74  3.37   3.53      1.81           Ball     Out   \n",
       "157   87.9   changeup -0.59  1.18   4.18      2.05           Ball  Strike   \n",
       "158   86.9   changeup -1.58  2.73   4.15      1.99           Ball     Out   \n",
       "159   85.7     slider -0.05  3.45   4.16      2.09           Ball  Strike   \n",
       "160   83.8     slider  0.11  2.17   4.18      1.96  Called Strike  Strike   \n",
       "\n",
       "     y_call      comp_call  acc  \n",
       "155  Strike           Ball    1  \n",
       "157     Low           Ball    1  \n",
       "158  Strike           Ball    1  \n",
       "159  Strike  Called Strike    0  \n",
       "160  Strike  Called Strike    1  "
      ]
     },
     "execution_count": 196,
     "metadata": {},
     "output_type": "execute_result"
    }
   ],
   "source": [
    "# Greinke pitched through batter number 41, Aaron Judge, in the bottom of the 5th inning. \n",
    "\n",
    "UmpComp_Greinke = UmpComp.loc[0:161]\n",
    "UmpComp_Greinke.tail()"
   ]
  },
  {
   "cell_type": "code",
   "execution_count": 197,
   "metadata": {},
   "outputs": [],
   "source": [
    "# Let's make a confusion matrix\n",
    "\n",
    "from sklearn.metrics import confusion_matrix\n",
    "y_true = UmpComp_Greinke['des'] \n",
    "y_pred = UmpComp_Greinke['comp_call']"
   ]
  },
  {
   "cell_type": "code",
   "execution_count": 198,
   "metadata": {},
   "outputs": [],
   "source": [
    "import itertools\n",
    "import matplotlib.pyplot as plt\n",
    "\n",
    "# Function to visualize confusion matrix\n",
    "\n",
    "def show_cf(y_true, y_pred, class_names=None, model_name=None):\n",
    "    cf = confusion_matrix(y_true, y_pred)\n",
    "    plt.imshow(cf, cmap=plt.cm.Blues)\n",
    "    \n",
    "    if model_name:\n",
    "        plt.title(\"Confusion Matrix: {}\".format(model_name))\n",
    "    else:\n",
    "        plt.title(\"Umpire vs. Computer - Confusion Matrix\")\n",
    "    plt.ylabel('Umpire')\n",
    "    plt.xlabel('Computer')\n",
    "    \n",
    "    class_names = set(y_true)\n",
    "    tick_marks = np.arange(len(class_names))\n",
    "    if class_names:\n",
    "        plt.xticks(tick_marks, class_names)\n",
    "        plt.yticks(tick_marks, class_names)\n",
    "    \n",
    "    thresh = cf.max() / 2.\n",
    "    \n",
    "    for i, j in itertools.product(range(cf.shape[0]), range(cf.shape[1])):\n",
    "        plt.text(j, i, cf[i, j], horizontalalignment='center', color='white' if cf[i, j] > thresh else 'black')\n",
    "\n",
    "    plt.colorbar()"
   ]
  },
  {
   "cell_type": "code",
   "execution_count": 199,
   "metadata": {},
   "outputs": [
    {
     "data": {
      "image/png": "[encoded data removed]",
      "text/plain": [
       "<Figure size 432x288 with 2 Axes>"
      ]
     },
     "metadata": {
      "needs_background": "light"
     },
     "output_type": "display_data"
    }
   ],
   "source": [
    "show_cf(y_true, y_pred)"
   ]
  },
  {
   "cell_type": "code",
   "execution_count": 120,
   "metadata": {},
   "outputs": [],
   "source": [
    "# Sanity check to be sure we're using the right data\n",
    "# Greinke is recorded as having pitched 83 pitches according to:\n",
    "# https://www.mlb.com/gameday/astros-vs-yankees/2019/10/17/599360#game_state=final,lock_state=final,game_tab=box,game=599360\n"
   ]
  },
  {
   "cell_type": "code",
   "execution_count": 124,
   "metadata": {},
   "outputs": [
    {
     "data": {
      "text/html": [
       "<div>\n",
       "<style scoped>\n",
       "    .dataframe tbody tr th:only-of-type {\n",
       "        vertical-align: middle;\n",
       "    }\n",
       "\n",
       "    .dataframe tbody tr th {\n",
       "        vertical-align: top;\n",
       "    }\n",
       "\n",
       "    .dataframe thead th {\n",
       "        text-align: right;\n",
       "    }\n",
       "</style>\n",
       "<table border=\"1\" class=\"dataframe\">\n",
       "  <thead>\n",
       "    <tr style=\"text-align: right;\">\n",
       "      <th></th>\n",
       "      <th>Unnamed: 0</th>\n",
       "      <th>pitchIdx</th>\n",
       "      <th>inning</th>\n",
       "      <th>frame</th>\n",
       "      <th>ab</th>\n",
       "      <th>abIdx</th>\n",
       "      <th>batter</th>\n",
       "      <th>stand</th>\n",
       "      <th>speed</th>\n",
       "      <th>pitchtype</th>\n",
       "      <th>px</th>\n",
       "      <th>pz</th>\n",
       "      <th>szTop</th>\n",
       "      <th>szBottom</th>\n",
       "      <th>des</th>\n",
       "      <th>x_call</th>\n",
       "      <th>y_call</th>\n",
       "      <th>comp_call</th>\n",
       "    </tr>\n",
       "  </thead>\n",
       "  <tbody>\n",
       "    <tr>\n",
       "      <td>18</td>\n",
       "      <td>370</td>\n",
       "      <td>370</td>\n",
       "      <td>1</td>\n",
       "      <td>bottom</td>\n",
       "      <td>5</td>\n",
       "      <td>1</td>\n",
       "      <td>DJ LeMahieu</td>\n",
       "      <td>R</td>\n",
       "      <td>88.6</td>\n",
       "      <td>4-seam fb</td>\n",
       "      <td>1.03</td>\n",
       "      <td>2.25</td>\n",
       "      <td>3.53</td>\n",
       "      <td>1.75</td>\n",
       "      <td>Ball</td>\n",
       "      <td>In</td>\n",
       "      <td>Strike</td>\n",
       "      <td>Ball</td>\n",
       "    </tr>\n",
       "    <tr>\n",
       "      <td>19</td>\n",
       "      <td>371</td>\n",
       "      <td>371</td>\n",
       "      <td>1</td>\n",
       "      <td>bottom</td>\n",
       "      <td>5</td>\n",
       "      <td>2</td>\n",
       "      <td>DJ LeMahieu</td>\n",
       "      <td>R</td>\n",
       "      <td>88.9</td>\n",
       "      <td>4-seam fb</td>\n",
       "      <td>0.69</td>\n",
       "      <td>1.46</td>\n",
       "      <td>3.50</td>\n",
       "      <td>1.75</td>\n",
       "      <td>Ball</td>\n",
       "      <td>Strike</td>\n",
       "      <td>Low</td>\n",
       "      <td>Ball</td>\n",
       "    </tr>\n",
       "    <tr>\n",
       "      <td>20</td>\n",
       "      <td>372</td>\n",
       "      <td>372</td>\n",
       "      <td>1</td>\n",
       "      <td>bottom</td>\n",
       "      <td>5</td>\n",
       "      <td>3</td>\n",
       "      <td>DJ LeMahieu</td>\n",
       "      <td>R</td>\n",
       "      <td>88.2</td>\n",
       "      <td>4-seam fb</td>\n",
       "      <td>0.28</td>\n",
       "      <td>1.19</td>\n",
       "      <td>3.50</td>\n",
       "      <td>1.69</td>\n",
       "      <td>Ball</td>\n",
       "      <td>Strike</td>\n",
       "      <td>Low</td>\n",
       "      <td>Ball</td>\n",
       "    </tr>\n",
       "    <tr>\n",
       "      <td>21</td>\n",
       "      <td>373</td>\n",
       "      <td>373</td>\n",
       "      <td>1</td>\n",
       "      <td>bottom</td>\n",
       "      <td>5</td>\n",
       "      <td>4</td>\n",
       "      <td>DJ LeMahieu</td>\n",
       "      <td>R</td>\n",
       "      <td>87.6</td>\n",
       "      <td>4-seam fb</td>\n",
       "      <td>1.44</td>\n",
       "      <td>1.91</td>\n",
       "      <td>3.53</td>\n",
       "      <td>1.75</td>\n",
       "      <td>Ball</td>\n",
       "      <td>In</td>\n",
       "      <td>Strike</td>\n",
       "      <td>Ball</td>\n",
       "    </tr>\n",
       "    <tr>\n",
       "      <td>22</td>\n",
       "      <td>374</td>\n",
       "      <td>374</td>\n",
       "      <td>1</td>\n",
       "      <td>bottom</td>\n",
       "      <td>6</td>\n",
       "      <td>1</td>\n",
       "      <td>Aaron Judge</td>\n",
       "      <td>R</td>\n",
       "      <td>90.2</td>\n",
       "      <td>4-seam fb</td>\n",
       "      <td>-0.08</td>\n",
       "      <td>1.27</td>\n",
       "      <td>4.24</td>\n",
       "      <td>2.08</td>\n",
       "      <td>Ball</td>\n",
       "      <td>Strike</td>\n",
       "      <td>Low</td>\n",
       "      <td>Ball</td>\n",
       "    </tr>\n",
       "  </tbody>\n",
       "</table>\n",
       "</div>"
      ],
      "text/plain": [
       "    Unnamed: 0  pitchIdx  inning   frame  ab  abIdx       batter stand  speed  \\\n",
       "18         370       370       1  bottom   5      1  DJ LeMahieu     R   88.6   \n",
       "19         371       371       1  bottom   5      2  DJ LeMahieu     R   88.9   \n",
       "20         372       372       1  bottom   5      3  DJ LeMahieu     R   88.2   \n",
       "21         373       373       1  bottom   5      4  DJ LeMahieu     R   87.6   \n",
       "22         374       374       1  bottom   6      1  Aaron Judge     R   90.2   \n",
       "\n",
       "    pitchtype    px    pz  szTop  szBottom   des  x_call  y_call comp_call  \n",
       "18  4-seam fb  1.03  2.25   3.53      1.75  Ball      In  Strike      Ball  \n",
       "19  4-seam fb  0.69  1.46   3.50      1.75  Ball  Strike     Low      Ball  \n",
       "20  4-seam fb  0.28  1.19   3.50      1.69  Ball  Strike     Low      Ball  \n",
       "21  4-seam fb  1.44  1.91   3.53      1.75  Ball      In  Strike      Ball  \n",
       "22  4-seam fb -0.08  1.27   4.24      2.08  Ball  Strike     Low      Ball  "
      ]
     },
     "execution_count": 124,
     "metadata": {},
     "output_type": "execute_result"
    }
   ],
   "source": [
    "# spliced df showing all of Greinke's pitches\n",
    "\n",
    "test.head()"
   ]
  },
  {
   "cell_type": "code",
   "execution_count": 125,
   "metadata": {},
   "outputs": [
    {
     "data": {
      "text/plain": [
       "(83, 18)"
      ]
     },
     "execution_count": 125,
     "metadata": {},
     "output_type": "execute_result"
    }
   ],
   "source": [
    "# Shape shows 83 individual pitches\n",
    "\n",
    "test.shape"
   ]
  },
  {
   "cell_type": "code",
   "execution_count": 173,
   "metadata": {},
   "outputs": [],
   "source": [
    "# References\n",
    "\n",
    "# https://www.bu.edu/articles/2019/mlb-umpires-strike-zone-accuracy\n"
   ]
  },
  {
   "cell_type": "markdown",
   "metadata": {},
   "source": [
    "# The Yankees Pitcher Starting Pitcher - Mashahiro Tanaka\n",
    "\n",
    "Now, let's apply the same methods to find out how the umpire called Tanaka. First, we will splice the data to show only Tanaka's pitches, he pitched 85 pitches through the 5th inning and 1 batter into the 6th. Remember, we then splice that data to only show called balls and strikes. Again, we are removing anything else (balls in play, foul balls, etc.,)"
   ]
  },
  {
   "cell_type": "code",
   "execution_count": 143,
   "metadata": {},
   "outputs": [
    {
     "data": {
      "text/plain": [
       "(85, 18)"
      ]
     },
     "execution_count": 143,
     "metadata": {},
     "output_type": "execute_result"
    }
   ],
   "source": [
    "# Sanity checking Tanaka's pitch count\n",
    "\n",
    "Tanaka_Pitches = PitchDF.loc[(PitchDF['frame']=='top') & (PitchDF['ab']<46)]\n",
    "Tanaka_Pitches.shape\n",
    "\n",
    "# Pitch count accurate"
   ]
  },
  {
   "cell_type": "code",
   "execution_count": 95,
   "metadata": {},
   "outputs": [],
   "source": [
    "Tanaka = UmpComp.loc[(UmpComp['frame']=='top')]"
   ]
  },
  {
   "cell_type": "code",
   "execution_count": 96,
   "metadata": {},
   "outputs": [],
   "source": [
    "Tanaka = Tanaka.loc[Tanaka['inning']<6]"
   ]
  },
  {
   "cell_type": "code",
   "execution_count": 100,
   "metadata": {},
   "outputs": [
    {
     "data": {
      "text/html": [
       "<div>\n",
       "<style scoped>\n",
       "    .dataframe tbody tr th:only-of-type {\n",
       "        vertical-align: middle;\n",
       "    }\n",
       "\n",
       "    .dataframe tbody tr th {\n",
       "        vertical-align: top;\n",
       "    }\n",
       "\n",
       "    .dataframe thead th {\n",
       "        text-align: right;\n",
       "    }\n",
       "</style>\n",
       "<table border=\"1\" class=\"dataframe\">\n",
       "  <thead>\n",
       "    <tr style=\"text-align: right;\">\n",
       "      <th></th>\n",
       "      <th>Unnamed: 0</th>\n",
       "      <th>pitchIdx</th>\n",
       "      <th>inning</th>\n",
       "      <th>frame</th>\n",
       "      <th>ab</th>\n",
       "      <th>abIdx</th>\n",
       "      <th>batter</th>\n",
       "      <th>stand</th>\n",
       "      <th>speed</th>\n",
       "      <th>pitchtype</th>\n",
       "      <th>px</th>\n",
       "      <th>pz</th>\n",
       "      <th>szTop</th>\n",
       "      <th>szBottom</th>\n",
       "      <th>des</th>\n",
       "      <th>x_call</th>\n",
       "      <th>y_call</th>\n",
       "      <th>comp_call</th>\n",
       "      <th>acc</th>\n",
       "    </tr>\n",
       "  </thead>\n",
       "  <tbody>\n",
       "    <tr>\n",
       "      <td>1</td>\n",
       "      <td>353</td>\n",
       "      <td>353</td>\n",
       "      <td>1</td>\n",
       "      <td>top</td>\n",
       "      <td>1</td>\n",
       "      <td>2</td>\n",
       "      <td>George Springer</td>\n",
       "      <td>R</td>\n",
       "      <td>89.4</td>\n",
       "      <td>fb-splitter</td>\n",
       "      <td>-1.37</td>\n",
       "      <td>3.08</td>\n",
       "      <td>3.62</td>\n",
       "      <td>1.72</td>\n",
       "      <td>Ball</td>\n",
       "      <td>Out</td>\n",
       "      <td>Strike</td>\n",
       "      <td>Ball</td>\n",
       "      <td>1</td>\n",
       "    </tr>\n",
       "    <tr>\n",
       "      <td>3</td>\n",
       "      <td>355</td>\n",
       "      <td>355</td>\n",
       "      <td>1</td>\n",
       "      <td>top</td>\n",
       "      <td>2</td>\n",
       "      <td>1</td>\n",
       "      <td>Jose Altuve</td>\n",
       "      <td>R</td>\n",
       "      <td>82.8</td>\n",
       "      <td>slider</td>\n",
       "      <td>0.73</td>\n",
       "      <td>1.96</td>\n",
       "      <td>3.05</td>\n",
       "      <td>1.45</td>\n",
       "      <td>Called Strike</td>\n",
       "      <td>Strike</td>\n",
       "      <td>Strike</td>\n",
       "      <td>Called Strike</td>\n",
       "      <td>1</td>\n",
       "    </tr>\n",
       "    <tr>\n",
       "      <td>4</td>\n",
       "      <td>356</td>\n",
       "      <td>356</td>\n",
       "      <td>1</td>\n",
       "      <td>top</td>\n",
       "      <td>2</td>\n",
       "      <td>2</td>\n",
       "      <td>Jose Altuve</td>\n",
       "      <td>R</td>\n",
       "      <td>91.0</td>\n",
       "      <td>4-seam fb</td>\n",
       "      <td>-1.22</td>\n",
       "      <td>4.44</td>\n",
       "      <td>3.08</td>\n",
       "      <td>1.39</td>\n",
       "      <td>Ball</td>\n",
       "      <td>Out</td>\n",
       "      <td>High</td>\n",
       "      <td>Ball</td>\n",
       "      <td>1</td>\n",
       "    </tr>\n",
       "    <tr>\n",
       "      <td>5</td>\n",
       "      <td>357</td>\n",
       "      <td>357</td>\n",
       "      <td>1</td>\n",
       "      <td>top</td>\n",
       "      <td>2</td>\n",
       "      <td>3</td>\n",
       "      <td>Jose Altuve</td>\n",
       "      <td>R</td>\n",
       "      <td>83.8</td>\n",
       "      <td>slider</td>\n",
       "      <td>1.27</td>\n",
       "      <td>0.70</td>\n",
       "      <td>3.05</td>\n",
       "      <td>1.48</td>\n",
       "      <td>Ball</td>\n",
       "      <td>In</td>\n",
       "      <td>Low</td>\n",
       "      <td>Ball</td>\n",
       "      <td>1</td>\n",
       "    </tr>\n",
       "    <tr>\n",
       "      <td>8</td>\n",
       "      <td>360</td>\n",
       "      <td>360</td>\n",
       "      <td>1</td>\n",
       "      <td>top</td>\n",
       "      <td>3</td>\n",
       "      <td>1</td>\n",
       "      <td>Michael Brantley</td>\n",
       "      <td>L</td>\n",
       "      <td>81.0</td>\n",
       "      <td>slider</td>\n",
       "      <td>-0.32</td>\n",
       "      <td>1.76</td>\n",
       "      <td>3.32</td>\n",
       "      <td>1.52</td>\n",
       "      <td>Called Strike</td>\n",
       "      <td>Strike</td>\n",
       "      <td>Strike</td>\n",
       "      <td>Called Strike</td>\n",
       "      <td>1</td>\n",
       "    </tr>\n",
       "  </tbody>\n",
       "</table>\n",
       "</div>"
      ],
      "text/plain": [
       "   Unnamed: 0  pitchIdx  inning frame  ab  abIdx            batter stand  \\\n",
       "1         353       353       1   top   1      2   George Springer     R   \n",
       "3         355       355       1   top   2      1       Jose Altuve     R   \n",
       "4         356       356       1   top   2      2       Jose Altuve     R   \n",
       "5         357       357       1   top   2      3       Jose Altuve     R   \n",
       "8         360       360       1   top   3      1  Michael Brantley     L   \n",
       "\n",
       "   speed    pitchtype    px    pz  szTop  szBottom            des  x_call  \\\n",
       "1   89.4  fb-splitter -1.37  3.08   3.62      1.72           Ball     Out   \n",
       "3   82.8       slider  0.73  1.96   3.05      1.45  Called Strike  Strike   \n",
       "4   91.0    4-seam fb -1.22  4.44   3.08      1.39           Ball     Out   \n",
       "5   83.8       slider  1.27  0.70   3.05      1.48           Ball      In   \n",
       "8   81.0       slider -0.32  1.76   3.32      1.52  Called Strike  Strike   \n",
       "\n",
       "   y_call      comp_call  acc  \n",
       "1  Strike           Ball    1  \n",
       "3  Strike  Called Strike    1  \n",
       "4    High           Ball    1  \n",
       "5     Low           Ball    1  \n",
       "8  Strike  Called Strike    1  "
      ]
     },
     "execution_count": 100,
     "metadata": {},
     "output_type": "execute_result"
    }
   ],
   "source": [
    "Tanaka.head()"
   ]
  },
  {
   "cell_type": "code",
   "execution_count": 98,
   "metadata": {},
   "outputs": [],
   "source": [
    "y_true2 = Tanaka['des'] \n",
    "y_pred2 = Tanaka['comp_call']"
   ]
  },
  {
   "cell_type": "code",
   "execution_count": 99,
   "metadata": {},
   "outputs": [
    {
     "data": {
      "image/png": "[encoded data removed]",
      "text/plain": [
       "<Figure size 432x288 with 2 Axes>"
      ]
     },
     "metadata": {
      "needs_background": "light"
     },
     "output_type": "display_data"
    }
   ],
   "source": [
    "show_cf(y_true2, y_pred2)"
   ]
  },
  {
   "cell_type": "code",
   "execution_count": null,
   "metadata": {},
   "outputs": [],
   "source": []
  }
 ],
 "metadata": {
  "kernelspec": {
   "display_name": "Python 3",
   "language": "python",
   "name": "python3"
  },
  "language_info": {
   "codemirror_mode": {
    "name": "ipython",
    "version": 3
   },
   "file_extension": ".py",
   "mimetype": "text/x-python",
   "name": "python",
   "nbconvert_exporter": "python",
   "pygments_lexer": "ipython3",
   "version": "3.7.4"
  }
 },
 "nbformat": 4,
 "nbformat_minor": 2
}
